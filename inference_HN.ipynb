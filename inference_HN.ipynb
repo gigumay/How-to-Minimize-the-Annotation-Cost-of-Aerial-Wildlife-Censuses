{
 "cells": [
  {
   "cell_type": "markdown",
   "id": "cefad2c4",
   "metadata": {},
   "source": [
    "### Load Dependencies"
   ]
  },
  {
   "cell_type": "code",
   "execution_count": 1,
   "id": "20162ffd",
   "metadata": {},
   "outputs": [],
   "source": [
    "from utils.HN import *\n",
    "from utils.model_eval import *\n",
    "import random"
   ]
  },
  {
   "cell_type": "markdown",
   "id": "e5afb7ae",
   "metadata": {},
   "source": [
    "### Define variables\n",
    "- `class_name2ID` is a dictionary mapping class names to their name. The ID of a species is its position in the Species column of Table 1. It's name is the name given in Table 1. E.g., for the JE-TL19 dataset, : `classID2name = {\"Elephant\": 0, \"Giraffe\": 1, \"Zebra\": 2}`\n",
    "- The DoR values can be found in Table 12.\n",
    "- The radii can be found in the Size Avg. column of Table 1. They need to be passed as a dictionary where `key = class ID`, `value = radius`. Again, for the JE-TL19 dataset, the `radii` dict would look as follows: `{0: 62, 1: 81, 2: 49}`\n"
   ]
  },
  {
   "cell_type": "code",
   "execution_count": null,
   "id": "bbf808c2",
   "metadata": {},
   "outputs": [],
   "source": [
    "imgs_dir = \"/home/giacomo/data/test_sets/EW-IL22/\"   #TODO: Insert Path to image directory (as downloaded from Zenodo).\n",
    "model_weights = \"/home/giacomo/data/weights/EW-IL22/HN_EW-IL22.pth\" #TODO: Insert Path to the model weights you want to run (as downloaded from Zenodo).\n",
    "class_name2ID = {\"Brant\": 0, \"Other\": 1, \"Gull\": 2, \"Canada\": 3, \"Emperor\": 4}    #TODO: Insert class names and IDs as found in Table 1.\n",
    "dor_thresh = 0.4    #TODO: Define DoR threshold for NMS and computing evaluation metrics (cf. Table 12)\n",
    "radii = {0: 50, 1: 50, 2: 37.5, 3: 50, 4: 50}     #TODO: Insert radius for each species in the dataset; cf. Table 1.\n",
    "output_dir = \"/home/giacomo/projects/How-to-Minimize-the-Annotation-Cost-of-Aerial-Wildlife-Censuses/outputs/EW-IL22/HN\"     #TODO: Insert path to directory you want your output stored in."
   ]
  },
  {
   "cell_type": "markdown",
   "id": "4d9ef596",
   "metadata": {},
   "source": [
    "### Run inference\n",
    "This cell will run HerdNet on the images from the “imgs_dir” entered above and will automatically create a folder inside it (HerdNet_results) in which the .csv file containing the detections will be saved.\n",
    "- `dets_file`: This is the path to the .csv file containing the HerdNet predictions. One row represents one detection and is expected to have the following columns:\n",
    "    - `images`: Contains the file names of the images.\n",
    "    - `x`: Contains the x-coordinate of the detection.\n",
    "    - `y`: Contains the y-coordinate of the detection.\n",
    "    - `scores`: Contains the confidence score of the prediction.\n",
    "    - `species`: Contains the name of the detected species.\n",
    "\n",
    "    ADD POINT ABOUT PATCH SIZE and OVERLAP\n",
    "    ADD NAMES DICTS\n",
    "    ADD OPTION FOR BOX_WH/PT_DEFAULT"
   ]
  },
  {
   "cell_type": "code",
   "execution_count": null,
   "id": "766d5025",
   "metadata": {},
   "outputs": [],
   "source": [
    "random.seed(0)\n",
    "\n",
    "%run -m utils.inference_herdnet {imgs_dir} {model_weights} --size 640 --over 64 \n",
    "\n",
    "from pathlib import Path\n",
    "\n",
    "dets_file = next(Path(imgs_dir).rglob(\"*_HerdNet_detections.csv\"), None)"
   ]
  },
  {
   "cell_type": "markdown",
   "id": "f4eee3e2",
   "metadata": {},
   "source": [
    "### Read HerdNet output and run evaluation pipeline (no input required)"
   ]
  },
  {
   "cell_type": "code",
   "execution_count": 7,
   "id": "8fcc23a3",
   "metadata": {},
   "outputs": [
    {
     "data": {
      "text/plain": [
       "{0: {'confusion': 4.605263785491687,\n",
       "  'precision': 86.82634678547097,\n",
       "  'recall': 51.2367489355592,\n",
       "  'f1': 64.44444369124939,\n",
       "  'metrics/precision(B)': 0.8686255977716412,\n",
       "  'metrics/recall(B)': 0.519434628975265,\n",
       "  'metrics/mAP100(B)': 0.6942146881078664,\n",
       "  'metrics/mAP100-10(B)': 0.6665091319674638},\n",
       " 1: {'confusion': 1.8518527606309898,\n",
       "  'precision': 79.6992475210583,\n",
       "  'recall': 43.08943071914866,\n",
       "  'f1': 55.9366747110087,\n",
       "  'metrics/precision(B)': 0.7585153046336648,\n",
       "  'metrics/recall(B)': 0.4341334425476499,\n",
       "  'metrics/mAP100(B)': 0.5945180494330806,\n",
       "  'metrics/mAP100-10(B)': 0.5847158845621653},\n",
       " 2: {'confusion': 3.311258918468485,\n",
       "  'precision': 85.3801164597654,\n",
       "  'recall': 48.5049832275582,\n",
       "  'f1': 61.86440605545283,\n",
       "  'metrics/precision(B)': 0.8056913498057943,\n",
       "  'metrics/recall(B)': 0.4850498338870432,\n",
       "  'metrics/mAP100(B)': 0.6446622440538027,\n",
       "  'metrics/mAP100-10(B)': 0.6197604018462411},\n",
       " 'binary': {'confusion': 3.256125154863721,\n",
       "  'precision': 86.87089696527156,\n",
       "  'recall': 48.65196072469122,\n",
       "  'f1': 62.37234822417617,\n",
       "  'metrics/precision(B)': 0.8109440840703668,\n",
       "  'metrics/recall(B)': 0.4795393018033194,\n",
       "  'metrics/mAP100(B)': 0.6444649938649166,\n",
       "  'metrics/mAP100-10(B)': 0.6236618061252899}}"
      ]
     },
     "execution_count": 7,
     "metadata": {},
     "output_type": "execute_result"
    }
   ],
   "source": [
    "read_detections_HN(dets_file=dets_file, cls_name2id=class_name2ID, imgs_dir=imgs_dir, dor_thresh=dor_thresh, radii=radii, class_ids=list(radii.keys()), output_dir=output_dir,\n",
    "                   ann_file=f\"{imgs_dir}/test_annotations.json\", ann_format=\"BX_WH\")\n",
    "\n",
    "class_ID2name = {cid: name for name,cid in class_name2ID.items()}\n",
    "compute_errors_img_lvl(gt_counts_dir=f\"{imgs_dir}/image_counts\", pred_counts_dir=f\"{output_dir}/detections\", class_ids=list(class_ID2name.keys()), \n",
    "                           output_dir=output_dir)\n",
    "compute_em_img_lvl(preds_dir=f\"{output_dir}/detections\", class_id2name=class_ID2name, task=\"locate\", output_dir=output_dir)    "
   ]
  }
 ],
 "metadata": {
  "kernelspec": {
   "display_name": "P0_YOLOcate",
   "language": "python",
   "name": "python3"
  },
  "language_info": {
   "codemirror_mode": {
    "name": "ipython",
    "version": 3
   },
   "file_extension": ".py",
   "mimetype": "text/x-python",
   "name": "python",
   "nbconvert_exporter": "python",
   "pygments_lexer": "ipython3",
   "version": "3.10.13"
  }
 },
 "nbformat": 4,
 "nbformat_minor": 5
}
