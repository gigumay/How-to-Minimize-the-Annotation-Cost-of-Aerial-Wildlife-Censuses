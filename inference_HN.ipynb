{
 "cells": [
  {
   "cell_type": "markdown",
   "id": "cefad2c4",
   "metadata": {},
   "source": [
    "### Load Dependencies"
   ]
  },
  {
   "cell_type": "code",
   "execution_count": 1,
   "id": "20162ffd",
   "metadata": {},
   "outputs": [],
   "source": [
    "from utils.HN import *\n",
    "from utils.model_eval import *\n",
    "import random"
   ]
  },
  {
   "cell_type": "markdown",
   "id": "e5afb7ae",
   "metadata": {},
   "source": [
    "### Define variables\n",
    "- `class_name2ID` is a dictionary mapping class names to their name. The ID of a species is its position in the Species column of Table 1. It's name is the name given in Table 1. E.g., for the JE-TL19 dataset, : `classID2name = {\"Elephant\": 0, \"Giraffe\": 1, \"Zebra\": 2}`\n",
    "- The DoR values can be found in Table 12.\n",
    "- The radii can be found in the Size Avg. column of Table 1. They need to be passed as a dictionary where `key = class ID`, `value = radius`. Again, for the JE-TL19 dataset, the `radii` dict would look as follows: `{0: 62, 1: 81, 2: 49}`\n"
   ]
  },
  {
   "cell_type": "code",
   "execution_count": null,
   "id": "bbf808c2",
   "metadata": {},
   "outputs": [],
   "source": [
    "imgs_dir = \"/home/giacomo/ennedi_prepped_640x640_02ovrlp_03neg_ID_2/test_full_imgs\"   #TODO: Insert Path to image directory (as downloaded from Zenodo).\n",
    "model_weights = \"/home/giacomo/DELPLANQUE_Results/Ennedi/model_weights/ENNEDI_STEP02_latest_model.pth\" #TODO: Insert Path to the model weights you want to run (as downloaded from Zenodo).\n",
    "class_name2ID = {\"Camel\": 0, \"Donkey\": 1, \"Sheep/goat\": 2}    #TODO: Insert class names and IDs as found in Table 1.\n",
    "dor_thresh = 0.3    #TODO: Define DoR threshold for NMS and computing evaluation metrics (cf. Table 12)\n",
    "radii = {0: 80, 1: 50, 2: 25}     #TODO: Insert radius for each species in the dataset; cf. Table 1.\n",
    "output_dir = \"/home/giacomo/projects/How-to-Minimize-the-Annotation-Cost-of-Aerial-Wildlife-Censuses/outputs/AD-ENCR23/HN\"     #TODO: Insert path to directory you want your output stored in."
   ]
  },
  {
   "cell_type": "markdown",
   "id": "4d9ef596",
   "metadata": {},
   "source": [
    "### Run inference\n",
    "This cell will run HerdNet on the images from the “imgs_dir” entered above and will automatically create a folder inside it (HerdNet_results) in which the .csv file containing the detections will be saved.\n",
    "- `dets_file`: This is the path to the .csv file containing the HerdNet predictions. One row represents one detection and is expected to have the following columns:\n",
    "    - `images`: Contains the file names of the images.\n",
    "    - `x`: Contains the x-coordinate of the detection.\n",
    "    - `y`: Contains the y-coordinate of the detection.\n",
    "    - `scores`: Contains the confidence score of the prediction.\n",
    "    - `species`: Contains the name of the detected species.\n",
    "\n",
    "    ADD POINT ABOUT PATCH SIZE and OVERLAP\n",
    "    ADD NAMES DICTS\n",
    "    ADD OPTION FOR BOX_WH/PT_DEFAULT"
   ]
  },
  {
   "cell_type": "code",
   "execution_count": 8,
   "id": "766d5025",
   "metadata": {},
   "outputs": [
    {
     "name": "stdout",
     "output_type": "stream",
     "text": [
      "Building the model ...\n",
      "Starting inference ...\n"
     ]
    },
    {
     "name": "stderr",
     "output_type": "stream",
     "text": [
      "  0%|          | 0/173 [00:00<?, ?it/s]"
     ]
    },
    {
     "name": "stderr",
     "output_type": "stream",
     "text": [
      "100%|██████████| 173/173 [05:22<00:00,  1.86s/it]"
     ]
    },
    {
     "name": "stdout",
     "output_type": "stream",
     "text": [
      "Inference finished!\n"
     ]
    },
    {
     "name": "stderr",
     "output_type": "stream",
     "text": [
      "\n"
     ]
    }
   ],
   "source": [
    "random.seed(0)\n",
    "\n",
    "%run -m utils.inference_herdnet {imgs_dir} {model_weights} --size 640 --over 128\n",
    "\n",
    "from pathlib import Path\n",
    "\n",
    "dets_file = next(Path(imgs_dir).rglob(\"*_HerdNet_detections.csv\"), None)"
   ]
  },
  {
   "cell_type": "markdown",
   "id": "f4eee3e2",
   "metadata": {},
   "source": [
    "### Read HerdNet output and run evaluation pipeline (no input required)"
   ]
  },
  {
   "cell_type": "code",
   "execution_count": 11,
   "id": "8fcc23a3",
   "metadata": {},
   "outputs": [
    {
     "ename": "KeyError",
     "evalue": "'Sheep/goat'",
     "output_type": "error",
     "traceback": [
      "\u001b[0;31m---------------------------------------------------------------------------\u001b[0m",
      "\u001b[0;31mKeyError\u001b[0m                                  Traceback (most recent call last)",
      "Cell \u001b[0;32mIn[11], line 1\u001b[0m\n\u001b[0;32m----> 1\u001b[0m \u001b[43mread_detections_HN\u001b[49m\u001b[43m(\u001b[49m\u001b[43mdets_file\u001b[49m\u001b[38;5;241;43m=\u001b[39;49m\u001b[43mdets_file\u001b[49m\u001b[43m,\u001b[49m\u001b[43m \u001b[49m\u001b[43mcls_name2id\u001b[49m\u001b[38;5;241;43m=\u001b[39;49m\u001b[43mclass_name2ID\u001b[49m\u001b[43m,\u001b[49m\u001b[43m \u001b[49m\u001b[43mimgs_dir\u001b[49m\u001b[38;5;241;43m=\u001b[39;49m\u001b[43mimgs_dir\u001b[49m\u001b[43m,\u001b[49m\u001b[43m \u001b[49m\u001b[43mdor_thresh\u001b[49m\u001b[38;5;241;43m=\u001b[39;49m\u001b[43mdor_thresh\u001b[49m\u001b[43m,\u001b[49m\u001b[43m \u001b[49m\u001b[43mradii\u001b[49m\u001b[38;5;241;43m=\u001b[39;49m\u001b[43mradii\u001b[49m\u001b[43m,\u001b[49m\u001b[43m \u001b[49m\u001b[43mclass_ids\u001b[49m\u001b[38;5;241;43m=\u001b[39;49m\u001b[38;5;28;43mlist\u001b[39;49m\u001b[43m(\u001b[49m\u001b[43mradii\u001b[49m\u001b[38;5;241;43m.\u001b[39;49m\u001b[43mkeys\u001b[49m\u001b[43m(\u001b[49m\u001b[43m)\u001b[49m\u001b[43m)\u001b[49m\u001b[43m,\u001b[49m\u001b[43m \u001b[49m\u001b[43moutput_dir\u001b[49m\u001b[38;5;241;43m=\u001b[39;49m\u001b[43moutput_dir\u001b[49m\u001b[43m,\u001b[49m\n\u001b[1;32m      2\u001b[0m \u001b[43m                   \u001b[49m\u001b[43mann_file\u001b[49m\u001b[38;5;241;43m=\u001b[39;49m\u001b[38;5;124;43mf\u001b[39;49m\u001b[38;5;124;43m\"\u001b[39;49m\u001b[38;5;132;43;01m{\u001b[39;49;00m\u001b[43mimgs_dir\u001b[49m\u001b[38;5;132;43;01m}\u001b[39;49;00m\u001b[38;5;124;43m/test_annotations.json\u001b[39;49m\u001b[38;5;124;43m\"\u001b[39;49m\u001b[43m,\u001b[49m\u001b[43m \u001b[49m\u001b[43mann_format\u001b[49m\u001b[38;5;241;43m=\u001b[39;49m\u001b[38;5;124;43m\"\u001b[39;49m\u001b[38;5;124;43mPT_DEFAULT\u001b[39;49m\u001b[38;5;124;43m\"\u001b[39;49m\u001b[43m)\u001b[49m\n\u001b[1;32m      4\u001b[0m class_ID2name \u001b[38;5;241m=\u001b[39m {cid: name \u001b[38;5;28;01mfor\u001b[39;00m name,cid \u001b[38;5;129;01min\u001b[39;00m class_name2ID\u001b[38;5;241m.\u001b[39mitems()}\n\u001b[1;32m      5\u001b[0m compute_errors_img_lvl(gt_counts_dir\u001b[38;5;241m=\u001b[39m\u001b[38;5;124mf\u001b[39m\u001b[38;5;124m\"\u001b[39m\u001b[38;5;132;01m{\u001b[39;00mimgs_dir\u001b[38;5;132;01m}\u001b[39;00m\u001b[38;5;124m/image_counts\u001b[39m\u001b[38;5;124m\"\u001b[39m, pred_counts_dir\u001b[38;5;241m=\u001b[39m\u001b[38;5;124mf\u001b[39m\u001b[38;5;124m\"\u001b[39m\u001b[38;5;132;01m{\u001b[39;00moutput_dir\u001b[38;5;132;01m}\u001b[39;00m\u001b[38;5;124m/detections\u001b[39m\u001b[38;5;124m\"\u001b[39m, class_ids\u001b[38;5;241m=\u001b[39m\u001b[38;5;28mlist\u001b[39m(class_ID2name\u001b[38;5;241m.\u001b[39mkeys()), \n\u001b[1;32m      6\u001b[0m                            output_dir\u001b[38;5;241m=\u001b[39moutput_dir)\n",
      "File \u001b[0;32m~/projects/How-to-Minimize-the-Annotation-Cost-of-Aerial-Wildlife-Censuses/utils/HN.py:45\u001b[0m, in \u001b[0;36mread_detections_HN\u001b[0;34m(dets_file, cls_name2id, imgs_dir, dor_thresh, radii, class_ids, output_dir, ann_file, ann_format, box_dims, vis_prob, vis_density)\u001b[0m\n\u001b[1;32m     42\u001b[0m conf \u001b[38;5;241m=\u001b[39m conf[\u001b[38;5;241m~\u001b[39mtorch\u001b[38;5;241m.\u001b[39many(conf\u001b[38;5;241m.\u001b[39misnan(),dim\u001b[38;5;241m=\u001b[39m\u001b[38;5;241m1\u001b[39m)]\n\u001b[1;32m     44\u001b[0m cls_names \u001b[38;5;241m=\u001b[39m [sn\u001b[38;5;241m.\u001b[39mcapitalize() \u001b[38;5;28;01mfor\u001b[39;00m sn \u001b[38;5;129;01min\u001b[39;00m img_dets[\u001b[38;5;124m\"\u001b[39m\u001b[38;5;124mspecies\u001b[39m\u001b[38;5;124m\"\u001b[39m]\u001b[38;5;241m.\u001b[39mvalues]\n\u001b[0;32m---> 45\u001b[0m cls_ids \u001b[38;5;241m=\u001b[39m [cls_name2id[name] \u001b[38;5;28;01mfor\u001b[39;00m name \u001b[38;5;129;01min\u001b[39;00m cls_names \u001b[38;5;28;01mif\u001b[39;00m \u001b[38;5;28misinstance\u001b[39m(name, \u001b[38;5;28mstr\u001b[39m)]\n\u001b[1;32m     46\u001b[0m \u001b[38;5;28mcls\u001b[39m \u001b[38;5;241m=\u001b[39m torch\u001b[38;5;241m.\u001b[39mTensor(cls_ids)\u001b[38;5;241m.\u001b[39mreshape(\u001b[38;5;241m-\u001b[39m\u001b[38;5;241m1\u001b[39m, \u001b[38;5;241m1\u001b[39m)\n\u001b[1;32m     48\u001b[0m visualize \u001b[38;5;241m=\u001b[39m (random\u001b[38;5;241m.\u001b[39mrandint(\u001b[38;5;241m0\u001b[39m, \u001b[38;5;241m1000\u001b[39m) \u001b[38;5;241m/\u001b[39m \u001b[38;5;241m1000\u001b[39m \u001b[38;5;241m<\u001b[39m\u001b[38;5;241m=\u001b[39m vis_prob) \u001b[38;5;129;01mor\u001b[39;00m (coords\u001b[38;5;241m.\u001b[39mshape[\u001b[38;5;241m0\u001b[39m] \u001b[38;5;241m>\u001b[39m\u001b[38;5;241m=\u001b[39m vis_density)\n",
      "File \u001b[0;32m~/projects/How-to-Minimize-the-Annotation-Cost-of-Aerial-Wildlife-Censuses/utils/HN.py:45\u001b[0m, in \u001b[0;36m<listcomp>\u001b[0;34m(.0)\u001b[0m\n\u001b[1;32m     42\u001b[0m conf \u001b[38;5;241m=\u001b[39m conf[\u001b[38;5;241m~\u001b[39mtorch\u001b[38;5;241m.\u001b[39many(conf\u001b[38;5;241m.\u001b[39misnan(),dim\u001b[38;5;241m=\u001b[39m\u001b[38;5;241m1\u001b[39m)]\n\u001b[1;32m     44\u001b[0m cls_names \u001b[38;5;241m=\u001b[39m [sn\u001b[38;5;241m.\u001b[39mcapitalize() \u001b[38;5;28;01mfor\u001b[39;00m sn \u001b[38;5;129;01min\u001b[39;00m img_dets[\u001b[38;5;124m\"\u001b[39m\u001b[38;5;124mspecies\u001b[39m\u001b[38;5;124m\"\u001b[39m]\u001b[38;5;241m.\u001b[39mvalues]\n\u001b[0;32m---> 45\u001b[0m cls_ids \u001b[38;5;241m=\u001b[39m [\u001b[43mcls_name2id\u001b[49m\u001b[43m[\u001b[49m\u001b[43mname\u001b[49m\u001b[43m]\u001b[49m \u001b[38;5;28;01mfor\u001b[39;00m name \u001b[38;5;129;01min\u001b[39;00m cls_names \u001b[38;5;28;01mif\u001b[39;00m \u001b[38;5;28misinstance\u001b[39m(name, \u001b[38;5;28mstr\u001b[39m)]\n\u001b[1;32m     46\u001b[0m \u001b[38;5;28mcls\u001b[39m \u001b[38;5;241m=\u001b[39m torch\u001b[38;5;241m.\u001b[39mTensor(cls_ids)\u001b[38;5;241m.\u001b[39mreshape(\u001b[38;5;241m-\u001b[39m\u001b[38;5;241m1\u001b[39m, \u001b[38;5;241m1\u001b[39m)\n\u001b[1;32m     48\u001b[0m visualize \u001b[38;5;241m=\u001b[39m (random\u001b[38;5;241m.\u001b[39mrandint(\u001b[38;5;241m0\u001b[39m, \u001b[38;5;241m1000\u001b[39m) \u001b[38;5;241m/\u001b[39m \u001b[38;5;241m1000\u001b[39m \u001b[38;5;241m<\u001b[39m\u001b[38;5;241m=\u001b[39m vis_prob) \u001b[38;5;129;01mor\u001b[39;00m (coords\u001b[38;5;241m.\u001b[39mshape[\u001b[38;5;241m0\u001b[39m] \u001b[38;5;241m>\u001b[39m\u001b[38;5;241m=\u001b[39m vis_density)\n",
      "\u001b[0;31mKeyError\u001b[0m: 'Sheep/goat'"
     ]
    }
   ],
   "source": [
    "read_detections_HN(dets_file=dets_file, cls_name2id=class_name2ID, imgs_dir=imgs_dir, dor_thresh=dor_thresh, radii=radii, class_ids=list(radii.keys()), output_dir=output_dir,\n",
    "                   ann_file=f\"{imgs_dir}/test_annotations.json\", ann_format=\"PT_DEFAULT\")\n",
    "\n",
    "class_ID2name = {cid: name for name,cid in class_name2ID.items()}\n",
    "compute_errors_img_lvl(gt_counts_dir=f\"{imgs_dir}/image_counts\", pred_counts_dir=f\"{output_dir}/detections\", class_ids=list(class_ID2name.keys()), \n",
    "                           output_dir=output_dir)\n",
    "compute_em_img_lvl(preds_dir=f\"{output_dir}/detections\", class_id2name=class_ID2name, task=\"locate\", output_dir=output_dir)    "
   ]
  }
 ],
 "metadata": {
  "kernelspec": {
   "display_name": "P0_YOLOcate",
   "language": "python",
   "name": "python3"
  },
  "language_info": {
   "codemirror_mode": {
    "name": "ipython",
    "version": 3
   },
   "file_extension": ".py",
   "mimetype": "text/x-python",
   "name": "python",
   "nbconvert_exporter": "python",
   "pygments_lexer": "ipython3",
   "version": "3.10.13"
  }
 },
 "nbformat": 4,
 "nbformat_minor": 5
}
